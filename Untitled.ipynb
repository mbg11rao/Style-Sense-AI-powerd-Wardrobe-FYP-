{
 "cells": [
  {
   "cell_type": "code",
   "execution_count": 19,
   "id": "6e9fd199",
   "metadata": {},
   "outputs": [],
   "source": [
    "import pandas as pd\n",
    "import numpy as np\n",
    "import matplotlib.pyplot as plt\n",
    "import cv2\n",
    "import os\n",
    "from sklearn.model_selection import train_test_split\n",
    "from tensorflow.keras.preprocessing.image import ImageDataGenerator\n",
    "from tensorflow.keras.models import Sequential\n",
    "from tensorflow.keras.layers import Conv2D, MaxPooling2D, Flatten, Dense\n",
    "from tensorflow.keras.utils import to_categorical"
   ]
  },
  {
   "cell_type": "code",
   "execution_count": 20,
   "id": "ce1cbb00",
   "metadata": {},
   "outputs": [],
   "source": [
    "data = pd.read_csv('images.csv')"
   ]
  },
  {
   "cell_type": "code",
   "execution_count": 21,
   "id": "0d5217b6",
   "metadata": {},
   "outputs": [],
   "source": [
    "data = data[data['kids'] == False]\n",
    "data = data[['image', 'label']]"
   ]
  },
  {
   "cell_type": "code",
   "execution_count": 22,
   "id": "ec499fa7",
   "metadata": {},
   "outputs": [],
   "source": [
    "image_dir = 'images_original/'"
   ]
  },
  {
   "cell_type": "code",
   "execution_count": 23,
   "id": "c7c5e948",
   "metadata": {},
   "outputs": [],
   "source": [
    "img_size = (100, 100)"
   ]
  },
  {
   "cell_type": "code",
   "execution_count": 29,
   "id": "f45cd079",
   "metadata": {},
   "outputs": [
    {
     "name": "stdout",
     "output_type": "stream",
     "text": [
      "Error loading image: d028580f-9a98-4fb5-a6c9-5dc362ad3f09. Exception: cannot identify image file 'images_compressed/d028580f-9a98-4fb5-a6c9-5dc362ad3f09.jpg'\n",
      "Error loading image: 1d0129a1-f29a-4a3f-b103-f651176183eb. Exception: cannot identify image file 'images_compressed/1d0129a1-f29a-4a3f-b103-f651176183eb.jpg'\n",
      "Error loading image: 784d67d4-b95e-4abb-baf7-8024f18dc3c8. Exception: cannot identify image file 'images_compressed/784d67d4-b95e-4abb-baf7-8024f18dc3c8.jpg'\n",
      "Error loading image: c60e486d-10ed-4f64-abab-5bb698c736dd. Exception: cannot identify image file 'images_compressed/c60e486d-10ed-4f64-abab-5bb698c736dd.jpg'\n",
      "Error loading image: 040d73b7-21b5-4cf2-84fc-e1a80231b202. Exception: cannot identify image file 'images_compressed/040d73b7-21b5-4cf2-84fc-e1a80231b202.jpg'\n",
      "Successfully loaded 4922 images.\n",
      "Failed to load 5 images.\n"
     ]
    }
   ],
   "source": [
    "from PIL import Image\n",
    "import os\n",
    "import numpy as np\n",
    "\n",
    "def load_images(file_paths, img_size):\n",
    "    images = []\n",
    "    failed_images = []\n",
    "    for file_path in file_paths:\n",
    "        file_path_without_extension = os.path.splitext(file_path)[0]  # Remove the file extension\n",
    "        full_path = os.path.join(image_dir, f\"{file_path_without_extension}.jpg\")\n",
    "        try:\n",
    "            with Image.open(full_path) as img:\n",
    "                img = img.convert('RGB')\n",
    "                img = img.resize(img_size)\n",
    "                img_array = np.array(img)\n",
    "                images.append(img_array)\n",
    "        except Exception as e:\n",
    "            print(f\"Error loading image: {file_path}. Exception: {e}\")\n",
    "            failed_images.append(file_path)\n",
    "    return np.array(images), failed_images\n",
    "\n",
    "# Update this variable with the correct directory\n",
    "image_dir = 'images_compressed'  # Adjust if needed\n",
    "image_paths = data['image'].values  # Assuming this contains all image file names\n",
    "\n",
    "# Assuming img_size is defined somewhere (e.g., img_size = (224, 224))\n",
    "\n",
    "loaded_images, failed_list = load_images(image_paths, img_size)\n",
    "\n",
    "print(f\"Successfully loaded {len(loaded_images)} images.\")\n",
    "print(f\"Failed to load {len(failed_list)} images.\")\n"
   ]
  },
  {
   "cell_type": "code",
   "execution_count": 30,
   "id": "cd4cca58",
   "metadata": {},
   "outputs": [
    {
     "name": "stdout",
     "output_type": "stream",
     "text": [
      "Successfully loaded 4922 images.\n",
      "Failed to load 5 images.\n"
     ]
    }
   ],
   "source": [
    "print(f\"Successfully loaded {len(loaded_images)} images.\")\n",
    "print(f\"Failed to load {len(failed_list)} images.\")"
   ]
  },
  {
   "cell_type": "code",
   "execution_count": 31,
   "id": "f12e4819",
   "metadata": {},
   "outputs": [
    {
     "name": "stdout",
     "output_type": "stream",
     "text": [
      "Error loading image: d028580f-9a98-4fb5-a6c9-5dc362ad3f09. Exception: cannot identify image file 'images_compressed/d028580f-9a98-4fb5-a6c9-5dc362ad3f09.jpg'\n",
      "Error loading image: 1d0129a1-f29a-4a3f-b103-f651176183eb. Exception: cannot identify image file 'images_compressed/1d0129a1-f29a-4a3f-b103-f651176183eb.jpg'\n",
      "Error loading image: 784d67d4-b95e-4abb-baf7-8024f18dc3c8. Exception: cannot identify image file 'images_compressed/784d67d4-b95e-4abb-baf7-8024f18dc3c8.jpg'\n",
      "Error loading image: c60e486d-10ed-4f64-abab-5bb698c736dd. Exception: cannot identify image file 'images_compressed/c60e486d-10ed-4f64-abab-5bb698c736dd.jpg'\n",
      "Error loading image: 040d73b7-21b5-4cf2-84fc-e1a80231b202. Exception: cannot identify image file 'images_compressed/040d73b7-21b5-4cf2-84fc-e1a80231b202.jpg'\n"
     ]
    }
   ],
   "source": [
    "image_paths = data['image'].values\n",
    "images = load_images(image_paths, img_size)"
   ]
  },
  {
   "cell_type": "code",
   "execution_count": 32,
   "id": "5f4f5cbf",
   "metadata": {},
   "outputs": [],
   "source": [
    "labels = pd.get_dummies(data['label'])"
   ]
  },
  {
   "cell_type": "code",
   "execution_count": 34,
   "id": "4f4ccfd8",
   "metadata": {},
   "outputs": [
    {
     "ename": "ValueError",
     "evalue": "Found input variables with inconsistent numbers of samples: [2, 4927]",
     "output_type": "error",
     "traceback": [
      "\u001b[0;31m---------------------------------------------------------------------------\u001b[0m",
      "\u001b[0;31mValueError\u001b[0m                                Traceback (most recent call last)",
      "Cell \u001b[0;32mIn[34], line 8\u001b[0m\n\u001b[1;32m      5\u001b[0m labels_array \u001b[38;5;241m=\u001b[39m labels\u001b[38;5;241m.\u001b[39mto_numpy()  \u001b[38;5;66;03m# or labels.values, depending on your setup\u001b[39;00m\n\u001b[1;32m      7\u001b[0m \u001b[38;5;66;03m# Split the data\u001b[39;00m\n\u001b[0;32m----> 8\u001b[0m train_images, test_images, train_labels, test_labels \u001b[38;5;241m=\u001b[39m train_test_split(images, labels_array, test_size\u001b[38;5;241m=\u001b[39m\u001b[38;5;241m0.2\u001b[39m, random_state\u001b[38;5;241m=\u001b[39m\u001b[38;5;241m42\u001b[39m)\n",
      "File \u001b[0;32m~/anaconda3/lib/python3.11/site-packages/sklearn/utils/_param_validation.py:211\u001b[0m, in \u001b[0;36mvalidate_params.<locals>.decorator.<locals>.wrapper\u001b[0;34m(*args, **kwargs)\u001b[0m\n\u001b[1;32m    205\u001b[0m \u001b[38;5;28;01mtry\u001b[39;00m:\n\u001b[1;32m    206\u001b[0m     \u001b[38;5;28;01mwith\u001b[39;00m config_context(\n\u001b[1;32m    207\u001b[0m         skip_parameter_validation\u001b[38;5;241m=\u001b[39m(\n\u001b[1;32m    208\u001b[0m             prefer_skip_nested_validation \u001b[38;5;129;01mor\u001b[39;00m global_skip_validation\n\u001b[1;32m    209\u001b[0m         )\n\u001b[1;32m    210\u001b[0m     ):\n\u001b[0;32m--> 211\u001b[0m         \u001b[38;5;28;01mreturn\u001b[39;00m func(\u001b[38;5;241m*\u001b[39margs, \u001b[38;5;241m*\u001b[39m\u001b[38;5;241m*\u001b[39mkwargs)\n\u001b[1;32m    212\u001b[0m \u001b[38;5;28;01mexcept\u001b[39;00m InvalidParameterError \u001b[38;5;28;01mas\u001b[39;00m e:\n\u001b[1;32m    213\u001b[0m     \u001b[38;5;66;03m# When the function is just a wrapper around an estimator, we allow\u001b[39;00m\n\u001b[1;32m    214\u001b[0m     \u001b[38;5;66;03m# the function to delegate validation to the estimator, but we replace\u001b[39;00m\n\u001b[1;32m    215\u001b[0m     \u001b[38;5;66;03m# the name of the estimator by the name of the function in the error\u001b[39;00m\n\u001b[1;32m    216\u001b[0m     \u001b[38;5;66;03m# message to avoid confusion.\u001b[39;00m\n\u001b[1;32m    217\u001b[0m     msg \u001b[38;5;241m=\u001b[39m re\u001b[38;5;241m.\u001b[39msub(\n\u001b[1;32m    218\u001b[0m         \u001b[38;5;124mr\u001b[39m\u001b[38;5;124m\"\u001b[39m\u001b[38;5;124mparameter of \u001b[39m\u001b[38;5;124m\\\u001b[39m\u001b[38;5;124mw+ must be\u001b[39m\u001b[38;5;124m\"\u001b[39m,\n\u001b[1;32m    219\u001b[0m         \u001b[38;5;124mf\u001b[39m\u001b[38;5;124m\"\u001b[39m\u001b[38;5;124mparameter of \u001b[39m\u001b[38;5;132;01m{\u001b[39;00mfunc\u001b[38;5;241m.\u001b[39m\u001b[38;5;18m__qualname__\u001b[39m\u001b[38;5;132;01m}\u001b[39;00m\u001b[38;5;124m must be\u001b[39m\u001b[38;5;124m\"\u001b[39m,\n\u001b[1;32m    220\u001b[0m         \u001b[38;5;28mstr\u001b[39m(e),\n\u001b[1;32m    221\u001b[0m     )\n",
      "File \u001b[0;32m~/anaconda3/lib/python3.11/site-packages/sklearn/model_selection/_split.py:2614\u001b[0m, in \u001b[0;36mtrain_test_split\u001b[0;34m(test_size, train_size, random_state, shuffle, stratify, *arrays)\u001b[0m\n\u001b[1;32m   2611\u001b[0m \u001b[38;5;28;01mif\u001b[39;00m n_arrays \u001b[38;5;241m==\u001b[39m \u001b[38;5;241m0\u001b[39m:\n\u001b[1;32m   2612\u001b[0m     \u001b[38;5;28;01mraise\u001b[39;00m \u001b[38;5;167;01mValueError\u001b[39;00m(\u001b[38;5;124m\"\u001b[39m\u001b[38;5;124mAt least one array required as input\u001b[39m\u001b[38;5;124m\"\u001b[39m)\n\u001b[0;32m-> 2614\u001b[0m arrays \u001b[38;5;241m=\u001b[39m indexable(\u001b[38;5;241m*\u001b[39marrays)\n\u001b[1;32m   2616\u001b[0m n_samples \u001b[38;5;241m=\u001b[39m _num_samples(arrays[\u001b[38;5;241m0\u001b[39m])\n\u001b[1;32m   2617\u001b[0m n_train, n_test \u001b[38;5;241m=\u001b[39m _validate_shuffle_split(\n\u001b[1;32m   2618\u001b[0m     n_samples, test_size, train_size, default_test_size\u001b[38;5;241m=\u001b[39m\u001b[38;5;241m0.25\u001b[39m\n\u001b[1;32m   2619\u001b[0m )\n",
      "File \u001b[0;32m~/anaconda3/lib/python3.11/site-packages/sklearn/utils/validation.py:455\u001b[0m, in \u001b[0;36mindexable\u001b[0;34m(*iterables)\u001b[0m\n\u001b[1;32m    436\u001b[0m \u001b[38;5;250m\u001b[39m\u001b[38;5;124;03m\"\"\"Make arrays indexable for cross-validation.\u001b[39;00m\n\u001b[1;32m    437\u001b[0m \n\u001b[1;32m    438\u001b[0m \u001b[38;5;124;03mChecks consistent length, passes through None, and ensures that everything\u001b[39;00m\n\u001b[0;32m   (...)\u001b[0m\n\u001b[1;32m    451\u001b[0m \u001b[38;5;124;03m    sparse matrix, or dataframe) or `None`.\u001b[39;00m\n\u001b[1;32m    452\u001b[0m \u001b[38;5;124;03m\"\"\"\u001b[39;00m\n\u001b[1;32m    454\u001b[0m result \u001b[38;5;241m=\u001b[39m [_make_indexable(X) \u001b[38;5;28;01mfor\u001b[39;00m X \u001b[38;5;129;01min\u001b[39;00m iterables]\n\u001b[0;32m--> 455\u001b[0m check_consistent_length(\u001b[38;5;241m*\u001b[39mresult)\n\u001b[1;32m    456\u001b[0m \u001b[38;5;28;01mreturn\u001b[39;00m result\n",
      "File \u001b[0;32m~/anaconda3/lib/python3.11/site-packages/sklearn/utils/validation.py:409\u001b[0m, in \u001b[0;36mcheck_consistent_length\u001b[0;34m(*arrays)\u001b[0m\n\u001b[1;32m    407\u001b[0m uniques \u001b[38;5;241m=\u001b[39m np\u001b[38;5;241m.\u001b[39munique(lengths)\n\u001b[1;32m    408\u001b[0m \u001b[38;5;28;01mif\u001b[39;00m \u001b[38;5;28mlen\u001b[39m(uniques) \u001b[38;5;241m>\u001b[39m \u001b[38;5;241m1\u001b[39m:\n\u001b[0;32m--> 409\u001b[0m     \u001b[38;5;28;01mraise\u001b[39;00m \u001b[38;5;167;01mValueError\u001b[39;00m(\n\u001b[1;32m    410\u001b[0m         \u001b[38;5;124m\"\u001b[39m\u001b[38;5;124mFound input variables with inconsistent numbers of samples: \u001b[39m\u001b[38;5;132;01m%r\u001b[39;00m\u001b[38;5;124m\"\u001b[39m\n\u001b[1;32m    411\u001b[0m         \u001b[38;5;241m%\u001b[39m [\u001b[38;5;28mint\u001b[39m(l) \u001b[38;5;28;01mfor\u001b[39;00m l \u001b[38;5;129;01min\u001b[39;00m lengths]\n\u001b[1;32m    412\u001b[0m     )\n",
      "\u001b[0;31mValueError\u001b[0m: Found input variables with inconsistent numbers of samples: [2, 4927]"
     ]
    }
   ],
   "source": [
    "from sklearn.model_selection import train_test_split\n",
    "\n",
    "# Assuming labels are in a pandas Series called 'labels'\n",
    "# Convert labels to a numpy array if they're not already in that format\n",
    "labels_array = labels.to_numpy()  # or labels.values, depending on your setup\n",
    "\n",
    "# Split the data\n",
    "train_images, test_images, train_labels, test_labels = train_test_split(images, labels_array, test_size=0.2, random_state=42)\n"
   ]
  },
  {
   "cell_type": "code",
   "execution_count": null,
   "id": "3e298c76",
   "metadata": {},
   "outputs": [],
   "source": [
    "model = Sequential([\n",
    "    Conv2D(32, (3, 3), activation='relu', input_shape=(img_size[0], img_size[1], 3)),\n",
    "    MaxPooling2D((2, 2)),\n",
    "    Conv2D(64, (3, 3), activation='relu'),\n",
    "    MaxPooling2D((2, 2)),\n",
    "    Flatten(),\n",
    "    Dense(64, activation='relu'),\n",
    "    Dense(len(labels.columns), activation='softmax')  # Output layer with the number of classes\n",
    "])"
   ]
  },
  {
   "cell_type": "code",
   "execution_count": null,
   "id": "a16b697b",
   "metadata": {},
   "outputs": [],
   "source": [
    "model.compile(optimizer='adam', loss='categorical_crossentropy', metrics=['accuracy'])\n"
   ]
  },
  {
   "cell_type": "code",
   "execution_count": null,
   "id": "77986caa",
   "metadata": {},
   "outputs": [],
   "source": [
    "history = model.fit(train_images, train_labels, epochs=10, batch_size=32, validation_data=(test_images, test_labels))\n"
   ]
  },
  {
   "cell_type": "code",
   "execution_count": null,
   "id": "f945ed7b",
   "metadata": {},
   "outputs": [],
   "source": [
    "def extract_dominant_color(img):\n",
    "    pixels = img.reshape((-1, 3))\n",
    "    pixels = np.float32(pixels)\n",
    "    criteria = (cv2.TERM_CRITERIA_EPS + cv2.TERM_CRITERIA_MAX_ITER, 200, 0.1)\n",
    "    k = 3  # Number of clusters (can be adjusted)\n",
    "    _, labels, centers = cv2.kmeans(pixels, k, None, criteria, 10, cv2.KMEANS_RANDOM_CENTERS)\n",
    "    dominant_color = centers[0]  # Extract the dominant color\n",
    "    return dominant_color"
   ]
  },
  {
   "cell_type": "code",
   "execution_count": null,
   "id": "8f8c929c",
   "metadata": {},
   "outputs": [],
   "source": [
    "image_to_analyze = cv2.imread(os.path.join(image_dir, 'example_image.jpg'))\n",
    "image_to_analyze = cv2.cvtColor(image_to_analyze, cv2.COLOR_BGR2RGB)\n",
    "image_to_analyze = cv2.resize(image_to_analyze, img_size)"
   ]
  },
  {
   "cell_type": "code",
   "execution_count": null,
   "id": "06f7c7f0",
   "metadata": {},
   "outputs": [],
   "source": []
  },
  {
   "cell_type": "code",
   "execution_count": null,
   "id": "850429e4",
   "metadata": {},
   "outputs": [],
   "source": []
  },
  {
   "cell_type": "code",
   "execution_count": null,
   "id": "80838a19",
   "metadata": {},
   "outputs": [],
   "source": []
  },
  {
   "cell_type": "code",
   "execution_count": null,
   "id": "27895854",
   "metadata": {},
   "outputs": [],
   "source": []
  },
  {
   "cell_type": "code",
   "execution_count": null,
   "id": "cb9fb4a5",
   "metadata": {},
   "outputs": [],
   "source": []
  },
  {
   "cell_type": "code",
   "execution_count": 13,
   "id": "30aa679f",
   "metadata": {},
   "outputs": [
    {
     "name": "stdout",
     "output_type": "stream",
     "text": [
      "The file 4285fab0-751a-4b74-8e9b-43af05deee22.jpg exists.\n"
     ]
    }
   ],
   "source": [
    "import os\n",
    "\n",
    "image_filename = '4285fab0-751a-4b74-8e9b-43af05deee22.jpg'  # Replace with the correct file extension\n",
    "full_path = os.path.join(image_dir, image_filename)\n",
    "\n",
    "if os.path.exists(full_path):\n",
    "    print(f\"The file {image_filename} exists.\")\n",
    "else:\n",
    "    print(f\"The file {image_filename} does not exist.\")\n"
   ]
  },
  {
   "cell_type": "code",
   "execution_count": null,
   "id": "6a8871b2",
   "metadata": {},
   "outputs": [],
   "source": [
    "import os\n",
    "\n",
    "# Print contents of the directory\n",
    "directory_contents = os.listdir('images_original')\n",
    "print(directory_contents)\n"
   ]
  },
  {
   "cell_type": "code",
   "execution_count": null,
   "id": "04295721",
   "metadata": {},
   "outputs": [],
   "source": []
  }
 ],
 "metadata": {
  "kernelspec": {
   "display_name": "Python 3 (ipykernel)",
   "language": "python",
   "name": "python3"
  },
  "language_info": {
   "codemirror_mode": {
    "name": "ipython",
    "version": 3
   },
   "file_extension": ".py",
   "mimetype": "text/x-python",
   "name": "python",
   "nbconvert_exporter": "python",
   "pygments_lexer": "ipython3",
   "version": "3.11.5"
  }
 },
 "nbformat": 4,
 "nbformat_minor": 5
}
