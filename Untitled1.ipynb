{
 "cells": [
  {
   "cell_type": "code",
   "execution_count": 1,
   "id": "5daea716",
   "metadata": {},
   "outputs": [],
   "source": [
    "import os\n",
    "import shutil\n",
    "import pandas as pd\n",
    "from PIL import Image\n"
   ]
  },
  {
   "cell_type": "code",
   "execution_count": 2,
   "id": "0b433a0c",
   "metadata": {},
   "outputs": [],
   "source": [
    "# Create a folder for clean data\n",
    "clean_data_folder = 'cleandata'\n",
    "os.makedirs(clean_data_folder, exist_ok=True)\n",
    "\n",
    "# Create a folder for images within clean data folder\n",
    "images_folder = os.path.join(clean_data_folder, 'images')\n",
    "os.makedirs(images_folder, exist_ok=True)\n"
   ]
  },
  {
   "cell_type": "code",
   "execution_count": 3,
   "id": "97aaef29",
   "metadata": {},
   "outputs": [],
   "source": [
    "# Load CSV file\n",
    "csv_file = 'images.csv'\n",
    "data = pd.read_csv(csv_file)\n",
    "\n",
    "# List of valid image names from the CSV file\n",
    "valid_image_names = data['image'].tolist()\n",
    "\n",
    "# Loop through images_compressed folder and copy valid images\n",
    "source_folder = 'images_compressed'\n",
    "\n",
    "for filename in os.listdir(source_folder):\n",
    "    if filename.endswith('.jpg') and filename[:-4] in valid_image_names:\n",
    "        try:\n",
    "            # Attempt to open the image\n",
    "            img = Image.open(os.path.join(source_folder, filename))\n",
    "            # Save the image to the new 'images' folder\n",
    "            img.save(os.path.join(images_folder, filename))\n",
    "        except (OSError, FileNotFoundError, Image.DecompressionBombError):\n",
    "            # Skip corrupted images or those that cannot be opened\n",
    "            pass\n"
   ]
  },
  {
   "cell_type": "code",
   "execution_count": 4,
   "id": "bbc9be76",
   "metadata": {},
   "outputs": [],
   "source": [
    "# Filter the DataFrame to keep rows with valid image names\n",
    "clean_data = data[data['image'].isin(valid_image_names)]\n",
    "\n",
    "# Save the cleaned CSV data to a new CSV file in the cleandata folder\n",
    "clean_csv_file = os.path.join(clean_data_folder, 'data.csv')\n",
    "clean_data.to_csv(clean_csv_file, index=False)\n"
   ]
  },
  {
   "cell_type": "code",
   "execution_count": 7,
   "id": "6a0dc26a",
   "metadata": {},
   "outputs": [
    {
     "name": "stdout",
     "output_type": "stream",
     "text": [
      "Images missing in 'images' folder but present in CSV: []\n",
      "Images missing in CSV but present in 'images' folder: []\n"
     ]
    }
   ],
   "source": [
    "# List all image filenames in the 'images' folder\n",
    "images_in_folder = os.listdir(images_folder)\n",
    "\n",
    "# Extract image filenames without extension\n",
    "image_filenames_in_folder = [filename[:-4] for filename in images_in_folder if filename.endswith('.jpg')]\n",
    "\n",
    "# Get image filenames from the CSV file\n",
    "image_filenames_in_csv = clean_data['image'].tolist()\n",
    "\n",
    "# Find inconsistencies\n",
    "missing_in_folder = [filename for filename in image_filenames_in_csv if filename not in image_filenames_in_folder]\n",
    "missing_in_csv = [filename for filename in image_filenames_in_folder if filename not in image_filenames_in_csv]\n",
    "\n",
    "# Print the inconsistencies\n",
    "print(f\"Images missing in 'images' folder but present in CSV: {missing_in_folder}\")\n",
    "print(f\"Images missing in CSV but present in 'images' folder: {missing_in_csv}\")\n"
   ]
  },
  {
   "cell_type": "code",
   "execution_count": 8,
   "id": "0d1afd59",
   "metadata": {},
   "outputs": [],
   "source": [
    "# Remove rows corresponding to missing images from the CSV DataFrame\n",
    "clean_data = clean_data[~clean_data['image'].isin(missing_in_folder)]\n",
    "\n",
    "# Save the updated CSV data to a new CSV file\n",
    "clean_csv_file_updated = os.path.join(clean_data_folder, 'data_updated.csv')\n",
    "clean_data.to_csv(clean_csv_file_updated, index=False)\n"
   ]
  },
  {
   "cell_type": "code",
   "execution_count": null,
   "id": "bfd60699",
   "metadata": {},
   "outputs": [],
   "source": []
  }
 ],
 "metadata": {
  "kernelspec": {
   "display_name": "Python 3 (ipykernel)",
   "language": "python",
   "name": "python3"
  },
  "language_info": {
   "codemirror_mode": {
    "name": "ipython",
    "version": 3
   },
   "file_extension": ".py",
   "mimetype": "text/x-python",
   "name": "python",
   "nbconvert_exporter": "python",
   "pygments_lexer": "ipython3",
   "version": "3.11.5"
  }
 },
 "nbformat": 4,
 "nbformat_minor": 5
}
