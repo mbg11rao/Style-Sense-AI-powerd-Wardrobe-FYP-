{
 "cells": [
  {
   "cell_type": "code",
   "execution_count": null,
   "metadata": {},
   "outputs": [],
   "source": [
    "import pandas as pd\n",
    "import numpy as np\n",
    "import matplotlib.pyplot as plt\n",
    "import cv2\n",
    "import os\n",
    "from sklearn.model_selection import train_test_split\n",
    "from tensorflow.keras.preprocessing.image import ImageDataGenerator\n",
    "from tensorflow.keras.models import Sequential\n",
    "from tensorflow.keras.layers import Conv2D, MaxPooling2D, Flatten, Dense\n",
    "from tensorflow.keras.utils import to_categorical"
   ]
  },
  {
   "cell_type": "code",
   "execution_count": null,
   "metadata": {},
   "outputs": [],
   "source": [
    "data = pd.read_csv('images.csv')"
   ]
  },
  {
   "cell_type": "code",
   "execution_count": null,
   "metadata": {},
   "outputs": [],
   "source": [
    "data = data[data['kids'] == False]\n",
    "data = data[['image', 'label']]"
   ]
  },
  {
   "cell_type": "code",
   "execution_count": null,
   "metadata": {},
   "outputs": [],
   "source": [
    "image_dir = 'images_original/'"
   ]
  },
  {
   "cell_type": "code",
   "execution_count": null,
   "metadata": {},
   "outputs": [],
   "source": [
    "img_size = (100, 100)"
   ]
  },
  {
   "cell_type": "code",
   "execution_count": null,
   "metadata": {},
   "outputs": [],
   "source": [
    "from PIL import Image\n",
    "import os\n",
    "import numpy as np\n",
    "\n",
    "def load_images(file_paths, img_size):\n",
    "    images = []\n",
    "    failed_images = []\n",
    "    for file_path in file_paths:\n",
    "        file_path_without_extension = os.path.splitext(file_path)[0]  # Remove the file extension\n",
    "        full_path = os.path.join(image_dir, f\"{file_path_without_extension}.jpg\")\n",
    "        try:\n",
    "            with Image.open(full_path) as img:\n",
    "                img = img.convert('RGB')\n",
    "                img = img.resize(img_size)\n",
    "                img_array = np.array(img)\n",
    "                images.append(img_array)\n",
    "        except Exception as e:\n",
    "            print(f\"Error loading image: {file_path}. Exception: {e}\")\n",
    "            failed_images.append(file_path)\n",
    "    return np.array(images), failed_images\n",
    "\n",
    "# Update this variable with the correct directory\n",
    "image_dir = 'images_compressed'  # Adjust if needed\n",
    "image_paths = data['image'].values  # Assuming this contains all image file names\n",
    "\n",
    "# Assuming img_size is defined somewhere (e.g., img_size = (224, 224))\n",
    "\n",
    "loaded_images, failed_list = load_images(image_paths, img_size)\n",
    "\n",
    "print(f\"Successfully loaded {len(loaded_images)} images.\")\n",
    "print(f\"Failed to load {len(failed_list)} images.\")\n"
   ]
  }
 ],
 "metadata": {
  "language_info": {
   "name": "python"
  }
 },
 "nbformat": 4,
 "nbformat_minor": 2
}
